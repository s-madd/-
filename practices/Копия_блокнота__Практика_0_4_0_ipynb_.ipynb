{
  "nbformat": 4,
  "nbformat_minor": 0,
  "metadata": {
    "colab": {
      "provenance": []
    },
    "kernelspec": {
      "name": "python3",
      "display_name": "Python 3"
    },
    "language_info": {
      "name": "python"
    }
  },
  "cells": [
    {
      "cell_type": "markdown",
      "source": [
        "Введите ваше ФИО:"
      ],
      "metadata": {
        "id": "k8oVfdwrMXyc"
      }
    },
    {
      "cell_type": "code",
      "execution_count": null,
      "metadata": {
        "id": "5mcBLsKMI1-5"
      },
      "outputs": [],
      "source": [
        "Рассадин Вячеслав Александрович"
      ]
    },
    {
      "cell_type": "markdown",
      "source": [
        "***Дисклеймер***\n",
        "\n",
        "В данной практике запрещено использования функций:\n",
        "\n",
        "\n",
        "*   sum()\n",
        "*   min()\n",
        "*   max()\n",
        "*   average()\n",
        "*   reversed()\n",
        "*   sorted()\n",
        "*   готовые функции или библиотеки\n"
      ],
      "metadata": {
        "id": "8HbYUbm3Jw3o"
      }
    },
    {
      "cell_type": "markdown",
      "source": [
        "\n",
        "**Задача 1:**\n",
        "\n",
        "\n",
        "\n",
        "Интернет-магазин предлагает следующие условия скидок:\n",
        "\n",
        "*   Для заказов больше 1000 единиц, клиент получает скидку 5%. Если клиент использует промокод SUPERDISCOUNT, он получает скидку 10% (вместо 5%).\n",
        "*  Для заказов более 5000 единиц, клиент получает скидку 15%, а использование промокода SUPERDISCOUNT увеличивает скидку до 20% (вместо 15%).\n",
        "\n",
        "Этап 1:\n",
        "Ввод:\n",
        "```\n",
        "Введите стоимость единицы товара: 5\n",
        "Введите количество товара: 1001\n",
        "Введите промокод: GiVEMEDISCONT\n",
        "```\n",
        "\n",
        "Вывод:\n",
        "\n",
        "```\n",
        "Ваша скидка: 5%\n",
        "Итоговая сумма: 4750.0\n",
        "```\n",
        "Этап 2:\n",
        "\n",
        "Оформите ваш код в виде функции"
      ],
      "metadata": {
        "id": "HmX0c6YPJSQr"
      }
    },
    {
      "cell_type": "code",
      "source": [
        "def buy(cost, num, promo):\n",
        "  sale = 0\n",
        "  summ = 0\n",
        "  cost = int(cost)\n",
        "  num = int(num)\n",
        "  if num > 1000:\n",
        "    sale = 5\n",
        "    if promo == 'SUPERDISCOUNT':\n",
        "      sale = 10\n",
        "  if num > 5000:\n",
        "    sale = 15\n",
        "    if promo == 'SUPERDISCOUNT':\n",
        "      sale = 20\n",
        "  summ = num * cost * ((100 - sale) / 100)\n",
        "  return [sale, summ]\n",
        "\n",
        "a = input('Введите стоимость единицы товара: ')\n",
        "b = input('Введите количество товара: ')\n",
        "c = input('Введите промокод: ')\n",
        "res = buy(a, b, c)\n",
        "print('')\n",
        "print('Ваша скидка:', str(res[0]) + '%')\n",
        "print('Итоговая сумма:', res[1])\n"
      ],
      "metadata": {
        "id": "OAIMIpklMN5D",
        "colab": {
          "base_uri": "https://localhost:8080/"
        },
        "outputId": "1dce8f65-efc5-4edb-f3a9-ab9ad96f1ce5"
      },
      "execution_count": null,
      "outputs": [
        {
          "output_type": "stream",
          "name": "stdout",
          "text": [
            "Введите стоимость единицы товара: 5467\n",
            "Введите количество товара: 20\n",
            "Введите промокод: \n",
            "\n",
            "Ваша скидка: 0%\n",
            "Итоговая сумма: 109340.0\n"
          ]
        }
      ]
    },
    {
      "cell_type": "markdown",
      "source": [
        "**Задача 2:**\n",
        "\n",
        "Этап 1:\n",
        "Напишите программу способную отфильтровать список и вывести только положительные элементы\n",
        "\n",
        "\n",
        "Ввод:\n",
        "```\n",
        "-1 5 1 2 -3\n",
        "```\n",
        "\n",
        "Вывод:\n",
        "\n",
        "```\n",
        "5 1 2\n",
        "```\n",
        "\n",
        "Этап 2:\n",
        "\n",
        "Оформите ваш код в виде функции"
      ],
      "metadata": {
        "id": "eeRVWpuLNGJ0"
      }
    },
    {
      "cell_type": "code",
      "source": [
        "nums = []\n",
        "def pol(nums):\n",
        "  res = []\n",
        "  for i in nums:\n",
        "    if int(i) >= 0:\n",
        "      res.append(int(i))\n",
        "  return res\n",
        "\n",
        "for i in input('Введите числа через пробел: ').split():\n",
        "  nums.append(i)\n",
        "\n",
        "print(pol(nums))"
      ],
      "metadata": {
        "id": "Xbi6bL0WOE9N",
        "colab": {
          "base_uri": "https://localhost:8080/"
        },
        "outputId": "179da40c-5203-48e9-b4a7-a1c28da3733e"
      },
      "execution_count": null,
      "outputs": [
        {
          "output_type": "stream",
          "name": "stdout",
          "text": [
            "Введите числа через пробел: 2 3 4\n",
            "[2, 3, 4]\n"
          ]
        }
      ]
    },
    {
      "cell_type": "markdown",
      "source": [
        "**Задача 3:**\n",
        "\n",
        "Этап 1:\n",
        "Напишите программу реализующую Алгоритм Евклида\n",
        "\n",
        "\n",
        "> Алгоритм Евклида – это алгоритм нахождения наибольшего общего делителя (НОД) пары целых чисел.\n",
        "\n",
        "\n",
        "\n",
        "Ввод:\n",
        "```\n",
        "30 18\n",
        "```\n",
        "\n",
        "Вывод:\n",
        "\n",
        "```\n",
        "6\n",
        "```\n",
        "\n",
        "Этап 2:\n",
        "Оформите ваш код в виде функции\n"
      ],
      "metadata": {
        "id": "lV-w6G-POa6F"
      }
    },
    {
      "cell_type": "code",
      "source": [
        "def minim(x, y):\n",
        "  if x <= y:\n",
        "    return x\n",
        "  else: return y\n",
        "\n",
        "def evkld(a, b):\n",
        "  a = int(a)\n",
        "  b = int(b)\n",
        "  res = []\n",
        "  for i in range(1, minim(a, b) + 1):\n",
        "    if a % i == 0 and b % i == 0:\n",
        "      res.append(i)\n",
        "  return res[-1]\n",
        "\n",
        "vvod = input('Введите 2 числа через пробел: ').split()\n",
        "print(evkld(vvod[0], vvod[1]))"
      ],
      "metadata": {
        "id": "43Dl5tIpOZsu",
        "colab": {
          "base_uri": "https://localhost:8080/"
        },
        "outputId": "c197f25e-0233-410d-b23b-9605dc8d360e"
      },
      "execution_count": null,
      "outputs": [
        {
          "output_type": "stream",
          "name": "stdout",
          "text": [
            "Введите 2 числа через пробел: 30 18\n",
            "6\n"
          ]
        }
      ]
    },
    {
      "cell_type": "markdown",
      "source": [
        "**Задача 4:**\n",
        "\n",
        "Этап 1:\n",
        "Напишите функцию программу, которая принимает строку и возвращает список слов и количество их упомнинаний в предложении\n",
        "\n",
        "Этап 2:\n",
        "Оформите ваш код в виде функции\n",
        "\n",
        "Ввод:\n",
        "```\n",
        "apple banana apple\n",
        "```\n",
        "\n",
        "Вывод:\n",
        "\n",
        "```\n",
        "apple: 2,\n",
        "banana: 1\n",
        "```"
      ],
      "metadata": {
        "id": "WIfPFxpsO0zL"
      }
    },
    {
      "cell_type": "code",
      "source": [
        "def superset(n):\n",
        "  m = []\n",
        "  for i in n:\n",
        "    if i not in m:\n",
        "      m.append(i)\n",
        "  return m\n",
        "\n",
        "a = []\n",
        "def barobas(vvod):\n",
        "  vvod_set = superset(vvod)\n",
        "  for i in vvod_set:\n",
        "    print(i + ':', vvod.count(i))\n",
        "\n",
        "for i in input().split(): a.append(i)\n",
        "barobas(a)"
      ],
      "metadata": {
        "id": "DgsmFeW5Po_x",
        "colab": {
          "base_uri": "https://localhost:8080/"
        },
        "outputId": "ad4d9e3e-4bb6-4fd5-f3af-598c446a15d3"
      },
      "execution_count": null,
      "outputs": [
        {
          "output_type": "stream",
          "name": "stdout",
          "text": [
            "жопа жопа рыба ананас ананас \n",
            "жопа: 2\n",
            "рыба: 1\n",
            "ананас: 2\n"
          ]
        }
      ]
    },
    {
      "cell_type": "markdown",
      "source": [
        "**Задача 5:**\n",
        "\n",
        "Этап 1:\n",
        "Детектор анаграмм Напишите программу на Python, которая принимает в качестве входных данных две строки и проверяет, являются ли они анаграммами друг друга\n",
        "\n",
        "Этап 2:\n",
        "Оформите ваш код в виде функции\n",
        "\n",
        "Ввод:\n",
        "```\n",
        "listen, silent\n",
        "```\n",
        "\n",
        "Вывод:\n",
        "\n",
        "```\n",
        "True\n",
        "```"
      ],
      "metadata": {
        "id": "5BmIJLUZP9I-"
      }
    },
    {
      "cell_type": "code",
      "source": [
        "def ann():\n",
        "  vvod = []\n",
        "  for i in input('Введите два слова через пробел: ').split():\n",
        "    vvod.append(i)\n",
        "  a, b = vvod[0], vvod[1]\n",
        "  if a == b[::-1]:\n",
        "    return True\n",
        "  return False\n",
        "print(ann())"
      ],
      "metadata": {
        "id": "7LNW8DuHQJwH",
        "colab": {
          "base_uri": "https://localhost:8080/"
        },
        "outputId": "dca7acd8-7234-4e5d-8041-078c3827b826"
      },
      "execution_count": null,
      "outputs": [
        {
          "output_type": "stream",
          "name": "stdout",
          "text": [
            "Введите два слова через пробел: да рай\n",
            "False\n"
          ]
        }
      ]
    },
    {
      "cell_type": "markdown",
      "source": [
        "**Задача 6:**\n",
        "\n",
        "Шифр ​​Цезаря\n",
        "\n",
        "Напишите программу на Python, которая реализует шифр Цезаря, простой метод шифрования, который заменяет каждую букву буквой на фиксированное количество позиций вниз по алфавиту. Программа должна запрашивать у пользователя сообщение и значение сдвига, а затем шифровать и расшифровывать сообщение.\n",
        "\n",
        "Этап 1:\n",
        "\n",
        "Напишите код для реализации данной задачи\n",
        "\n",
        "Этап 2:\n",
        "\n",
        "Оформите код в виде нескольких функций:\n",
        "\n",
        "* Зашифровывает сообщение\n",
        "* Расшифровывает сообщение"
      ],
      "metadata": {
        "id": "-SIWYSq2QKBh"
      }
    },
    {
      "cell_type": "code",
      "source": [
        "alph = ['а', 'б', 'в', 'г', 'д', 'е', 'ё', 'ж', 'з', 'и',\n",
        "        'й', 'к', 'л', 'м', 'н', 'о', 'п', 'р', 'с', 'т',\n",
        "        'у', 'ф', 'х', 'ц', 'ч', 'ш', 'щ', 'ъ', 'ы', 'ь',\n",
        "        'э', 'ю', 'я']\n",
        "\n",
        "def shifr():\n",
        "\n",
        "  while True:\n",
        "    a = input('Введите сообщение: ')\n",
        "    a = a.lower()\n",
        "    flag = True\n",
        "    for i in a:\n",
        "      if i in alph or i == ' ':\n",
        "        continue\n",
        "      else: flag = False\n",
        "    if flag == True: break\n",
        "    else:\n",
        "      print('Буквы должны быть из русского алфавита')\n",
        "\n",
        "  while True:\n",
        "    sdv = input('Введите числовое значение сдвига: ')\n",
        "    try:\n",
        "      sdv = int(sdv)\n",
        "      break\n",
        "    except:\n",
        "      continue\n",
        "\n",
        "  b = ''\n",
        "  for i in a:\n",
        "    if i != ' ':\n",
        "      xx = alph.index(i) + sdv\n",
        "      if xx + 1 > len(alph): xx = xx - len(alph)\n",
        "      b += alph[xx]\n",
        "    else: b += ' '\n",
        "  return b\n",
        "\n",
        "def rasshifr():\n",
        "\n",
        "  while True:\n",
        "    a = input('Введите сообщение: ')\n",
        "    a = a.lower()\n",
        "    flag = True\n",
        "    for i in a:\n",
        "      if i in alph or i == ' ':\n",
        "        continue\n",
        "      else: flag = False\n",
        "    if flag == True: break\n",
        "    else:\n",
        "      print('Буквы должны быть из русского алфавита')\n",
        "\n",
        "  while True:\n",
        "    sdv = input('Введите числовое значение сдвига: ')\n",
        "    try:\n",
        "      sdv = int(sdv)\n",
        "      break\n",
        "    except:\n",
        "      continue\n",
        "\n",
        "  b = ''\n",
        "  for i in a:\n",
        "    if i != ' ':\n",
        "      b += alph[alph.index(i) - sdv]\n",
        "    else: b += ' '\n",
        "  return b\n",
        "\n",
        "while True:\n",
        "  print('0 - завершить программу')\n",
        "  print('1 - зашифровать сообщение')\n",
        "  print('2 - расшифровка')\n",
        "  vvod = input('Ввод: ')\n",
        "  if vvod == '0': break\n",
        "  if vvod == '1': print(shifr())\n",
        "  if vvod == '2': print(rasshifr())"
      ],
      "metadata": {
        "id": "anThYirsQe6N",
        "colab": {
          "base_uri": "https://localhost:8080/"
        },
        "outputId": "27db9c41-e714-4bfc-df45-daa73035e6ce"
      },
      "execution_count": 17,
      "outputs": [
        {
          "name": "stdout",
          "output_type": "stream",
          "text": [
            "0 - завершить программу\n",
            "1 - зашифровать сообщение\n",
            "2 - расшифровка\n",
            "Ввод: 00\n",
            "0 - завершить программу\n",
            "1 - зашифровать сообщение\n",
            "2 - расшифровка\n",
            "Ввод: 0\n"
          ]
        }
      ]
    },
    {
      "cell_type": "markdown",
      "source": [
        "**Задача 7**\n",
        "\n",
        "Задача: «Банковская система»\n",
        "\n",
        "Создайте программу Python, которая имитирует базовую банковскую систему. Система должна иметь следующие функции:\n",
        "\n",
        "Требования\n",
        "*   Система должна позволять клиентам создавать счета и хранить их балансы.\n",
        "*   Система должна позволять клиентам вносить и снимать деньги со своих счетов.\n",
        "*   Система должна позволять клиентам проверять свой текущий баланс.\n",
        "*   Система должна позволять клиентам переводить деньги между счетами.\n",
        "*   Система должна отслеживать транзакции (депозиты, снятия и переводы) и иметь возможность печатать детали транзакций.\n",
        "\n",
        "\n",
        "Задачи\n",
        "1. Реализуйте банковскую систему, используя только базовые конструкции Python, такие как def, lists, if, elif и else, без классов или словарей.\n",
        "Определите функции для создания счетов, внесения и снятия денег, получения балансов счетов, перевода денег между счетами, а также создания и печати транзакций.\n",
        "2. Напишите основную функцию, которая демонстрирует использование банковской системы путем создания счетов, внесения и снятия денег и перевода денег между счетами.\n",
        "3. Бонусное задание\n",
        "Реализуйте способ хранения и печати истории транзакций для каждого счета.\n",
        "\n",
        "Ограничения\n",
        "Не используйте классы или словари.\n",
        "Используйте только базовые конструкции Python, такие как def, lists, if, elif и else.\n"
      ],
      "metadata": {
        "id": "avFZRRXrQz9O"
      }
    },
    {
      "cell_type": "code",
      "source": [
        "base = []\n",
        "schet = 'Счет не выбран'\n",
        "def main():\n",
        "  global schet\n",
        "  while True:\n",
        "    print()\n",
        "    print('Выбран счет:', schet)\n",
        "    print('------------------------')\n",
        "    print('x - завершить программу')\n",
        "    print('0 - выбрать счет')\n",
        "    print('1 - создать счет')\n",
        "    print('2 - проверить баланс')\n",
        "    print('3 - внести деньги')\n",
        "    print('4 - снять деньги')\n",
        "    print('5 - перевести деньги')\n",
        "    print('6 - список счетов')\n",
        "    print('------------------------')\n",
        "    print()\n",
        "\n",
        "    vvod = input('Ввод: ')\n",
        "\n",
        "    if vvod == 'x': break\n",
        "\n",
        "    if vvod == '1':\n",
        "\n",
        "      name_sc = input('Введите имя счета: ')\n",
        "      base.append(name_sc)\n",
        "      base.append(0)\n",
        "      schet = base[base.index(name_sc)]\n",
        "      print('Счет успешно создан. Ваш баланс:', base[base.index(schet) + 1])\n",
        "\n",
        "    if vvod == '0':\n",
        "      name_sc = input('Введите имя счета: ')\n",
        "      if name_sc in base:\n",
        "        schet = base[base.index(name_sc)]\n",
        "        print('Успешно')\n",
        "      else: print('Счет не найден')\n",
        "\n",
        "    if vvod == '2':\n",
        "      print('Ваш баланс:', base[base.index(schet) + 1])\n",
        "\n",
        "    if vvod == '3':\n",
        "      vnos = input('Какую сумму внести? Ввод: ')\n",
        "      base[base.index(schet) + 1] += int(vnos)\n",
        "      print('Баланс пополнен. Сейчас на счету: ', base[base.index(schet) + 1])\n",
        "\n",
        "    if vvod ==  '4':\n",
        "      vnos = input('Какую сумму снять? Ввод: ')\n",
        "      if int(vnos) <= base[base.index(schet) + 1]:\n",
        "        base[base.index(schet) + 1] -= int(vnos)\n",
        "        print('Успешно. Сейчас на счету: ', base[base.index(schet) + 1])\n",
        "      else: print('На счете не хватает средств')\n",
        "\n",
        "    if vvod == '5':\n",
        "      moneyto = input('Введите название счета, на который необходимо совершить перевод: ')\n",
        "      if moneyto in base:\n",
        "        money = int(input('Введите сумму: '))\n",
        "        if base[base.index(schet) + 1] >= money:\n",
        "          base[base.index(schet) + 1] -= money\n",
        "          base[base.index(moneyto) + 1] += money\n",
        "          print('Перевод на сумму', str(money), 'выполнен')\n",
        "        else: print('Недостаточно средств')\n",
        "      else: print('Счет не найден')\n",
        "\n",
        "    if vvod == '6':\n",
        "      print('Список счетов:')\n",
        "      for i in range(0, len(base), 2):\n",
        "        print(base[i])\n",
        "\n",
        "main()\n"
      ],
      "metadata": {
        "colab": {
          "base_uri": "https://localhost:8080/"
        },
        "id": "dWEW10zIRwjs",
        "outputId": "003d4e52-013e-40e9-ee35-86317e05354d"
      },
      "execution_count": null,
      "outputs": [
        {
          "name": "stdout",
          "output_type": "stream",
          "text": [
            "\n",
            "Выбран счет: Счет не выбран\n",
            "------------------------\n",
            "x - завершить программу\n",
            "0 - выбрать счет\n",
            "1 - создать счет\n",
            "2 - проверить баланс\n",
            "3 - внести деньги\n",
            "4 - снять деньги\n",
            "5 - перевести деньги\n",
            "6 - список счетов\n",
            "------------------------\n",
            "\n",
            "Ввод: 1\n",
            "Введите имя счета: 1\n",
            "Счет успешно создан. Ваш баланс: 0\n",
            "\n",
            "Выбран счет: 1\n",
            "------------------------\n",
            "x - завершить программу\n",
            "0 - выбрать счет\n",
            "1 - создать счет\n",
            "2 - проверить баланс\n",
            "3 - внести деньги\n",
            "4 - снять деньги\n",
            "5 - перевести деньги\n",
            "6 - список счетов\n",
            "------------------------\n",
            "\n",
            "Ввод: 1\n",
            "Введите имя счета: 2\n",
            "Счет успешно создан. Ваш баланс: 0\n",
            "\n",
            "Выбран счет: 2\n",
            "------------------------\n",
            "x - завершить программу\n",
            "0 - выбрать счет\n",
            "1 - создать счет\n",
            "2 - проверить баланс\n",
            "3 - внести деньги\n",
            "4 - снять деньги\n",
            "5 - перевести деньги\n",
            "6 - список счетов\n",
            "------------------------\n",
            "\n",
            "Ввод: 6\n",
            "Список счетов:\n",
            "1\n",
            "2\n",
            "\n",
            "Выбран счет: 2\n",
            "------------------------\n",
            "x - завершить программу\n",
            "0 - выбрать счет\n",
            "1 - создать счет\n",
            "2 - проверить баланс\n",
            "3 - внести деньги\n",
            "4 - снять деньги\n",
            "5 - перевести деньги\n",
            "6 - список счетов\n",
            "------------------------\n",
            "\n",
            "Ввод: x\n"
          ]
        }
      ]
    }
  ]
}