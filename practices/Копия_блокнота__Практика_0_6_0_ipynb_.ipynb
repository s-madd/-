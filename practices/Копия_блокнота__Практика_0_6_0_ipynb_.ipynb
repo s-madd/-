{
  "nbformat": 4,
  "nbformat_minor": 0,
  "metadata": {
    "colab": {
      "provenance": []
    },
    "kernelspec": {
      "name": "python3",
      "display_name": "Python 3"
    },
    "language_info": {
      "name": "python"
    }
  },
  "cells": [
    {
      "cell_type": "markdown",
      "source": [
        "# **Дисклеймер**\n",
        "\n",
        "В данной практике будет введен дополнительный критерий: чистота и читаемость кода, а также соблюдение правил описанных в начале практики"
      ],
      "metadata": {
        "id": "cFcrKfclKWh0"
      }
    },
    {
      "cell_type": "markdown",
      "source": [
        "Рассадин Вячеслав Александрович\n"
      ],
      "metadata": {
        "id": "OX6wtPoT4uyd"
      }
    },
    {
      "cell_type": "markdown",
      "source": [
        "\n",
        "\n",
        "---\n",
        "\n"
      ],
      "metadata": {
        "id": "0SnE87X1xDlV"
      }
    },
    {
      "cell_type": "markdown",
      "source": [
        "# Задание 1\n",
        "\n",
        "**Задача:**\n",
        "\n",
        "Напишите функцию очищающий список от дубликтов\n",
        "\n",
        "\n",
        "*Запрещено:*\n",
        "\n",
        "*   Использовать set() или готовые функции очищающие список от дубликатов\n",
        "\n",
        "Вввод:\n",
        "\n",
        "```\n",
        "apple banana apple 1 3 4 4 5\n",
        "```\n",
        "\n",
        "\n",
        "Вывод:\n",
        "\n",
        "```\n",
        "apple banana 1 3 4 5\n",
        "```\n",
        "\n"
      ],
      "metadata": {
        "id": "VxawR9NubT_F"
      }
    },
    {
      "cell_type": "code",
      "source": [
        "s = input('Ввод (через пробел): ').split()\n",
        "res = []\n",
        "for i in s:\n",
        "  if i not in res: res.append(i)\n",
        "print(res)"
      ],
      "metadata": {
        "id": "ml5gnbPXbeju",
        "colab": {
          "base_uri": "https://localhost:8080/"
        },
        "outputId": "04292e2d-6969-4093-9f05-cbea2848044a"
      },
      "execution_count": null,
      "outputs": [
        {
          "output_type": "stream",
          "name": "stdout",
          "text": [
            "Ввод (через пробел): 1 1 1 2\n",
            "['1', '1', '1', '2']\n",
            "['1', '2']\n"
          ]
        }
      ]
    },
    {
      "cell_type": "markdown",
      "source": [
        "# Задание 2\n",
        "\n",
        "**Задача:**\n",
        "\n",
        "Написать функцию для нахождения простых чисел в диапазоне\n",
        "\n",
        "Ввод:\n",
        "\n",
        "```\n",
        "10, 50\n",
        "```\n",
        "\n",
        "Вывод:\n",
        "\n",
        "```\n",
        "11, 13, 17, 19, 23, 29, 31, 37, 41, 43, 47\n",
        "```"
      ],
      "metadata": {
        "id": "y05x0eD0cVCC"
      }
    },
    {
      "cell_type": "code",
      "source": [
        "start_diap = int(input('Введите начало диапазона: '))\n",
        "end_diap = int(input('Введите конец диапазона: '))\n",
        "res = []\n",
        "for num in range(start_diap, end_diap + 1):\n",
        "  dell = []\n",
        "  for k in range(1, num + 1):\n",
        "    if num % k == 0: dell.append(k)\n",
        "  if len(dell) == 2:\n",
        "    res.append(num)\n",
        "print(res)"
      ],
      "metadata": {
        "id": "XSMJnLgrc6Bf",
        "colab": {
          "base_uri": "https://localhost:8080/"
        },
        "outputId": "8b42b714-2f69-40bf-efcc-ba8dfb1d4809"
      },
      "execution_count": null,
      "outputs": [
        {
          "output_type": "stream",
          "name": "stdout",
          "text": [
            "Введите начало диапазона: 10\n",
            "Введите конец диапазона: 50\n",
            "[11, 13, 17, 19, 23, 29, 31, 37, 41, 43, 47]\n"
          ]
        }
      ]
    },
    {
      "cell_type": "markdown",
      "source": [
        "# Задание 3\n",
        "\n",
        "Напишите функцию для объединения двух списков (список ключей и список значении) в словарь\n",
        "\n",
        "*Запрещено:*\n",
        "\n",
        "*   Использования готовых функции для объединения списков (пример: zip() )\n",
        "\n",
        "Дано:\n",
        "\n",
        "```\n",
        "keys = ['a', 'b', 'c', 'e' ]\n",
        "values = [1, 2, 3, 4]\n",
        "```\n",
        "\n",
        "Вывод:\n",
        "```\n",
        "{'a': 1, 'b': 2, 'c': 3, 'e': 4}\n",
        "```\n",
        "\n",
        "\n"
      ],
      "metadata": {
        "id": "vYM0LyxxdElN"
      }
    },
    {
      "cell_type": "code",
      "source": [
        "def twosp_to_sl(key, val):\n",
        "  res ={}\n",
        "  for i in range(max(len(key), len(val))):\n",
        "    try:\n",
        "      res[key[i]] = val[i]\n",
        "    except:\n",
        "      continue\n",
        "  return res\n",
        "\n",
        "keys = ['a', 'b', 'c', 'e']\n",
        "values = [1, 2, 3, 4]\n",
        "\n",
        "print(twosp_to_sl(keys, values))"
      ],
      "metadata": {
        "id": "CRvhHTjCdvjS",
        "colab": {
          "base_uri": "https://localhost:8080/"
        },
        "outputId": "07a9da69-d68b-4e20-fd6d-d2b964aa18d4"
      },
      "execution_count": null,
      "outputs": [
        {
          "output_type": "stream",
          "name": "stdout",
          "text": [
            "{'a': 1, 'b': 2, 'c': 3, 'e': 4}\n"
          ]
        }
      ]
    },
    {
      "cell_type": "markdown",
      "source": [
        "# Задание 4\n",
        "\n",
        "Напишите функцию(ии) для подсчета статистических параметров:\n",
        "*   Сумму\n",
        "*   Среднее арифметическое\n",
        "*   Медиану\n",
        "*   Моду\n",
        "\n",
        "\n",
        "*Запрещено:*\n",
        "\n",
        "*   sum()\n",
        "*   sorted()\n",
        "*   и других функции предоставляющих готовое решение задания\n",
        "\n",
        "Дано:\n",
        "\n",
        "```\n",
        "numbers = [1, 2, 2, 3, 4, 5, 6, 7, 8 ,9 ,10]\n",
        "\n",
        "```\n",
        "\n",
        "Вывод:\n",
        "```\n",
        "{'mean': 5.181818181818182, 'median': 5, 'mode': 2, 'sum': 57}\n",
        "```\n"
      ],
      "metadata": {
        "id": "L_w8H8i-fQcP"
      }
    },
    {
      "cell_type": "code",
      "source": [
        "def summ(s):\n",
        "  res = 0\n",
        "  for i in s:\n",
        "    res += int(i)\n",
        "  return res\n",
        "\n",
        "def sr_arf(s):\n",
        "  k = 0\n",
        "  for i in s:\n",
        "    k += 1\n",
        "  return summ(s) / k\n",
        "\n",
        "def moda(s):\n",
        "  sl = {}\n",
        "  sts = set(s)\n",
        "  for i in sts:\n",
        "    sl[s.count(i)] = i\n",
        "  return max(sl)\n",
        "\n",
        "def sortt(s):\n",
        "    n = len(s)\n",
        "    for i in range(n - 1):\n",
        "        for j in range(n - i - 1):\n",
        "            if s[j] > s[j + 1]:\n",
        "                s[j], s[j + 1] = s[j + 1], s[j]\n",
        "    return s\n",
        "\n",
        "\n",
        "def med(s):\n",
        "  sts = sortt(s)\n",
        "  if len(s) % 2 == 0:\n",
        "    return (int(sts[len(sts) // 2]) + int(sts[len(sts) // 2 - 1])) / 2\n",
        "  else:\n",
        "    return sts[len(sts) // 2]\n",
        "\n",
        "numbers = [1, 2, 2, 3, 4, 5, 6, 7, 8 ,9 ,10]\n",
        "print('сумма:', summ(numbers))\n",
        "print('среднее арефм.:', sr_arf(numbers))\n",
        "print('мода:', moda(numbers))\n",
        "print('медиана', med(numbers))"
      ],
      "metadata": {
        "id": "dW6jW_rjfuba",
        "colab": {
          "base_uri": "https://localhost:8080/"
        },
        "outputId": "d1f855ee-43bc-4e35-a9d0-5db6f762361e"
      },
      "execution_count": null,
      "outputs": [
        {
          "output_type": "stream",
          "name": "stdout",
          "text": [
            "сумма: 57\n",
            "среднее арефм.: 5.181818181818182\n",
            "мода: 2\n",
            "медиана 5\n"
          ]
        }
      ]
    },
    {
      "cell_type": "markdown",
      "source": [
        "# Задание 5\n",
        "\n",
        "На ввод поступает строка символов. Строка состоит из слов, которые отделены друг от друга пробелами. Необходимо вывести самое длинное слово и его порядковый номер.\n",
        "\n",
        "*Запрещено:*\n",
        "\n",
        "*   len()\n",
        "\n",
        "Ввод:\n",
        "\n",
        "```\n",
        "Страдание и боль всегда обязательны для широкого сознания и глубокого сердца.\n",
        "\n",
        "```\n",
        "\n",
        "Вывод:\n",
        "```\n",
        "Самое длинное слово с номером 5: обязательны\n",
        "```"
      ],
      "metadata": {
        "id": "hZW0NZ7SgTcp"
      }
    },
    {
      "cell_type": "code",
      "source": [
        "def get_word_length(word):\n",
        "    length = 0\n",
        "    for i in word:\n",
        "        length += 1\n",
        "    return length\n",
        "\n",
        "def find_longest_word(text):\n",
        "    words = text.split()\n",
        "    if not words:\n",
        "        return None, None\n",
        "    longest_word = words[0]\n",
        "    max_length = get_word_length(longest_word)\n",
        "    longest_word_index = 1\n",
        "    for index, word in enumerate(words[1:], 2):\n",
        "        current_length = get_word_length(word)\n",
        "        if current_length > max_length:\n",
        "            max_length = current_length\n",
        "            longest_word = word\n",
        "            longest_word_index = index\n",
        "\n",
        "    return longest_word, longest_word_index\n",
        "\n",
        "text = input(\"Введите строку: \")\n",
        "longest_word, longest_word_index = find_longest_word(text)\n",
        "\n",
        "if longest_word is not None:\n",
        "    print(\"Самое длинное слово:\", longest_word)\n",
        "    print(f\"Порядковый номер:\", longest_word_index)\n",
        "else:\n",
        "    print(\"В строке нет слов\")"
      ],
      "metadata": {
        "id": "rC5DpHHLsDYp",
        "colab": {
          "base_uri": "https://localhost:8080/"
        },
        "outputId": "4468e8cb-61c1-41fc-ed8b-46761d944721"
      },
      "execution_count": null,
      "outputs": [
        {
          "output_type": "stream",
          "name": "stdout",
          "text": [
            "Введите строку: ага\n",
            "Самое длинное слово: ага\n",
            "Порядковый номер: 1\n"
          ]
        }
      ]
    },
    {
      "cell_type": "markdown",
      "source": [
        "# Задание 6\n",
        "\n",
        "Напишите программу, для управления оценками студентов, со следующими функциями:\n",
        "\n",
        "* Добавление информации о студенте и его оценках.\n",
        "* Подсчет среднего балла студента.\n",
        "* Получение списка всех студентов с их средними баллами.\n",
        "* Поиск студента по имени и вывод его оценок и среднего балла.\n",
        "\n",
        "\n",
        "\n"
      ],
      "metadata": {
        "id": "k5BzJW5ZeaQN"
      }
    },
    {
      "cell_type": "code",
      "source": [],
      "metadata": {
        "id": "cvhlltVbdyoL"
      },
      "execution_count": null,
      "outputs": []
    },
    {
      "cell_type": "markdown",
      "source": [
        "# Задание 7\n",
        "\n",
        "\n",
        "**Задача:**\n",
        "\n",
        "Создайте приложение-викторину с командной строкой, которое задает пользователям вопросы по различным темам и отслеживает их результаты.\n",
        "\n",
        "Ключевые особенности:\n",
        "\n",
        "*   Хранение данных о вопросах и ответах на них, а также баллов за каждый вопрос\n",
        "*   Реализуйте функцию для представления вопросов, принятия ответов пользователей и предоставления обратной связи о том, являются ли ответы правильными или неправильными.\n",
        "*  После завершения викторины отобразите общий балл пользователя из числа ответов на вопросы.\n",
        "*  Реализуйте функцию добавления нового вопроса\n",
        "*  Реализуйте функцию перемешивания вопросов, для отображения случайного вопроса\n"
      ],
      "metadata": {
        "id": "iQ8Z-7PYgu1_"
      }
    },
    {
      "cell_type": "code",
      "source": [],
      "metadata": {
        "id": "DhxyYwHwh2V4"
      },
      "execution_count": null,
      "outputs": []
    }
  ]
}